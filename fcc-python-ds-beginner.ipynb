{
 "cells": [
  {
   "cell_type": "markdown",
   "id": "9a2dfb63",
   "metadata": {},
   "source": [
    "# freeCodeCamp - Python for Data Science - Course for Beginners\n",
    "## https://www.youtube.com/watch?v=LHBE6Q9XlzI"
   ]
  },
  {
   "cell_type": "markdown",
   "id": "4559e094",
   "metadata": {},
   "source": [
    "This is my first program in Python. Wish me luck!"
   ]
  },
  {
   "cell_type": "code",
   "execution_count": 1,
   "id": "ae6f3cc7",
   "metadata": {},
   "outputs": [
    {
     "name": "stdout",
     "output_type": "stream",
     "text": [
      "Hello, Kautzar!\n"
     ]
    }
   ],
   "source": [
    "print(\"Hello, Kautzar!\")"
   ]
  },
  {
   "cell_type": "markdown",
   "id": "caeb8d3c",
   "metadata": {},
   "source": [
    "$a=b+c$"
   ]
  },
  {
   "cell_type": "code",
   "execution_count": 4,
   "id": "a114e1ab",
   "metadata": {},
   "outputs": [
    {
     "name": "stdout",
     "output_type": "stream",
     "text": [
      "20\n"
     ]
    }
   ],
   "source": [
    "a = 3 * 5\n",
    "b = 7 - 2\n",
    "print(a + b)"
   ]
  },
  {
   "cell_type": "code",
   "execution_count": 5,
   "id": "587c0658",
   "metadata": {},
   "outputs": [
    {
     "name": "stdout",
     "output_type": "stream",
     "text": [
      "2\n",
      "<class 'int'>\n",
      "5\n",
      "<class 'int'>\n",
      "7.2\n",
      "<class 'float'>\n",
      "4\n",
      "<class 'int'>\n",
      "5.0\n",
      "<class 'float'>\n"
     ]
    }
   ],
   "source": [
    "x = 2 # int \n",
    "y = 5 # int \n",
    "xy = 7.2 # float \n",
    "a, b = 4, 5.0 # multiple assignment \n",
    "\n",
    "print(x)\n",
    "print(type(x))\n",
    "\n",
    "print(y)\n",
    "print(type(y))\n",
    "\n",
    "print(xy)\n",
    "print(type(xy))\n",
    "\n",
    "print(a)\n",
    "print(type(a))\n",
    "\n",
    "print(b)\n",
    "print(type(b))"
   ]
  },
  {
   "cell_type": "code",
   "execution_count": 6,
   "id": "ce79c940",
   "metadata": {},
   "outputs": [
    {
     "ename": "NameError",
     "evalue": "name 'x' is not defined",
     "output_type": "error",
     "traceback": [
      "\u001b[1;31m---------------------------------------------------------------------------\u001b[0m",
      "\u001b[1;31mNameError\u001b[0m                                 Traceback (most recent call last)",
      "\u001b[1;32m~\\AppData\\Local\\Temp\\ipykernel_16364\\1439113887.py\u001b[0m in \u001b[0;36m<module>\u001b[1;34m\u001b[0m\n\u001b[0;32m      1\u001b[0m \u001b[1;32mdel\u001b[0m \u001b[0mx\u001b[0m\u001b[1;33m\u001b[0m\u001b[1;33m\u001b[0m\u001b[0m\n\u001b[1;32m----> 2\u001b[1;33m \u001b[0mprint\u001b[0m\u001b[1;33m(\u001b[0m\u001b[0mx\u001b[0m\u001b[1;33m)\u001b[0m\u001b[1;33m\u001b[0m\u001b[1;33m\u001b[0m\u001b[0m\n\u001b[0m",
      "\u001b[1;31mNameError\u001b[0m: name 'x' is not defined"
     ]
    }
   ],
   "source": [
    "del x \n",
    "print(x)"
   ]
  },
  {
   "cell_type": "code",
   "execution_count": 9,
   "id": "70103135",
   "metadata": {},
   "outputs": [
    {
     "name": "stdout",
     "output_type": "stream",
     "text": [
      "Hey, Kautzar!\n",
      "<class 'str'>\n",
      "13\n",
      "<class 'str'>\n"
     ]
    }
   ],
   "source": [
    "call_my_name = \"Hey, Kautzar!\"\n",
    "print(call_my_name)\n",
    "print(type(call_my_name))\n",
    "\n",
    "number_as_string = \"13\"\n",
    "print(number_as_string)\n",
    "print(type(number_as_string))"
   ]
  },
  {
   "cell_type": "code",
   "execution_count": 1,
   "id": "61118a07",
   "metadata": {},
   "outputs": [
    {
     "name": "stdout",
     "output_type": "stream",
     "text": [
      "4.235\n"
     ]
    }
   ],
   "source": [
    "print(round(4.23456, 3))"
   ]
  },
  {
   "cell_type": "code",
   "execution_count": 7,
   "id": "b4a98d60",
   "metadata": {},
   "outputs": [
    {
     "name": "stdout",
     "output_type": "stream",
     "text": [
      "False\n",
      "True\n",
      "False\n",
      "True\n"
     ]
    }
   ],
   "source": [
    "a = True\n",
    "b = False \n",
    "c = a and b\n",
    "d = a or b\n",
    "\n",
    "print(c)\n",
    "print(d)\n",
    "print(a == b)\n",
    "print(a != b)"
   ]
  },
  {
   "cell_type": "code",
   "execution_count": 11,
   "id": "7217d26d",
   "metadata": {},
   "outputs": [
    {
     "name": "stdout",
     "output_type": "stream",
     "text": [
      "(5, 2)\n",
      "5\n",
      "2\n"
     ]
    }
   ],
   "source": [
    "x = 27 \n",
    "y = 5\n",
    "print(divmod(x, y))\n",
    "print(x//y)\n",
    "print(x%y)"
   ]
  },
  {
   "cell_type": "markdown",
   "id": "13c75498",
   "metadata": {},
   "source": [
    "# Numpy Python Data Science Library"
   ]
  },
  {
   "cell_type": "code",
   "execution_count": 10,
   "id": "3e25a535",
   "metadata": {},
   "outputs": [
    {
     "name": "stdout",
     "output_type": "stream",
     "text": [
      "[1 2 3 4 5]\n",
      "<class 'numpy.ndarray'>\n",
      "[1. 6. 3. 4. 9.]\n",
      "<class 'numpy.ndarray'>\n"
     ]
    }
   ],
   "source": [
    "import numpy as np\n",
    "a = np.array([1,2,3,4,5])\n",
    "b = np.array((1,6,3,4,9), dtype = \"f\")\n",
    "\n",
    "print(a)\n",
    "print(type(a))\n",
    "print(b)\n",
    "print(type(b))"
   ]
  },
  {
   "cell_type": "code",
   "execution_count": 12,
   "id": "e0d315aa",
   "metadata": {},
   "outputs": [
    {
     "data": {
      "text/plain": [
       "dtype('float32')"
      ]
     },
     "execution_count": 12,
     "metadata": {},
     "output_type": "execute_result"
    }
   ],
   "source": [
    "a.dtype;\n",
    "b.dtype"
   ]
  },
  {
   "cell_type": "markdown",
   "id": "8a916047",
   "metadata": {},
   "source": [
    "# Numpy Dimensions"
   ]
  },
  {
   "cell_type": "code",
   "execution_count": 22,
   "id": "fd1d2905",
   "metadata": {},
   "outputs": [
    {
     "name": "stdout",
     "output_type": "stream",
     "text": [
      "2\n",
      "3\n",
      "<class 'numpy.ndarray'>\n"
     ]
    }
   ],
   "source": [
    "a = np.array([[1,2,3], [4,5,6]])\n",
    "print(a.ndim)\n",
    "print(a[0,2])\n",
    "print(type(a))"
   ]
  },
  {
   "cell_type": "code",
   "execution_count": 23,
   "id": "96c9e070",
   "metadata": {},
   "outputs": [
    {
     "name": "stdout",
     "output_type": "stream",
     "text": [
      "3\n",
      "[5 6 7]\n",
      "2 2 3\n",
      "4\n",
      "<class 'numpy.ndarray'>\n"
     ]
    }
   ],
   "source": [
    "b = np.array([[[1,2,3],[4,5,6]], [[2,3,4],[5,6,7]]])\n",
    "print(b.ndim)\n",
    "print(b[1,1])\n",
    "print(b.shape[0], b.shape[1], b.shape[2])\n",
    "print(b[1,0,2])\n",
    "print(type(b))"
   ]
  },
  {
   "cell_type": "markdown",
   "id": "01dcee25",
   "metadata": {},
   "source": [
    "# Covid19 Trend Analysis"
   ]
  },
  {
   "cell_type": "code",
   "execution_count": 27,
   "id": "91c7f5cc",
   "metadata": {},
   "outputs": [],
   "source": [
    "import matplotlib.pyplot as plt\n",
    "import pandas as pd\n",
    "import numpy as np\n",
    "from sklearn.impute import SimpleImputer"
   ]
  },
  {
   "cell_type": "code",
   "execution_count": null,
   "id": "f82d059c",
   "metadata": {},
   "outputs": [],
   "source": [
    "df "
   ]
  }
 ],
 "metadata": {
  "kernelspec": {
   "display_name": "Python 3 (ipykernel)",
   "language": "python",
   "name": "python3"
  },
  "language_info": {
   "codemirror_mode": {
    "name": "ipython",
    "version": 3
   },
   "file_extension": ".py",
   "mimetype": "text/x-python",
   "name": "python",
   "nbconvert_exporter": "python",
   "pygments_lexer": "ipython3",
   "version": "3.9.13"
  }
 },
 "nbformat": 4,
 "nbformat_minor": 5
}
